{
 "cells": [
  {
   "cell_type": "code",
   "execution_count": null,
   "metadata": {},
   "outputs": [],
   "source": [
    "import torch.nn as nn\n",
    "import torch\n",
    "class FM_layer(nn.Module):\n",
    "    def __init__(self, k, input) -> None:\n",
    "        self.w0 = nn.Parameter(data=torch.randn(1,))\n",
    "        self.wij = nn.Parameter(data=torch.randn(input.size(-1),1))\n",
    "        self.vij = nn.Parameter(data=torch.randn(input.size(-1),k))\n",
    "        \n",
    "    def forward(self,input):\n",
    "        # 逻辑回归部分\n",
    "        lr_part = self.w0 + torch.matmul(input,self.wij)\n",
    "        cross_part1 = torch.pow(torch.matmul(input,self.vij), 2)\n",
    "        cross_part2 = torch.matmul(torch.pow(input,2), torch.pow(self.vij,2))\n",
    "        cross = 0.5 * torch.sum(input=(cross_part1 - cross_part2),\n",
    "                                dim=-1, keepdim=True)\n",
    "        return torch.sigmoid(lr_part + cross)"
   ]
  }
 ],
 "metadata": {
  "kernelspec": {
   "display_name": "pytorch",
   "language": "python",
   "name": "python3"
  },
  "language_info": {
   "name": "python",
   "version": "3.8.16"
  }
 },
 "nbformat": 4,
 "nbformat_minor": 2
}
