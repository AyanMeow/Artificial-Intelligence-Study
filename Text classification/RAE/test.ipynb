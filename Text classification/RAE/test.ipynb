{
 "cells": [
  {
   "cell_type": "code",
   "execution_count": 2,
   "metadata": {},
   "outputs": [],
   "source": [
    "%load_ext autoreload\n",
    "%autoreload 2\n",
    "import torch\n",
    "from tree import RTree\n",
    "from RAE import RAE\n",
    "import os as os\n",
    "import numpy as np\n",
    "from logger import Logger\n",
    "from sklearn.model_selection import train_test_split"
   ]
  },
  {
   "cell_type": "markdown",
   "metadata": {},
   "source": [
    "### 读取数据並進行拆分，打包npz"
   ]
  },
  {
   "cell_type": "code",
   "execution_count": 30,
   "metadata": {},
   "outputs": [
    {
     "name": "stdout",
     "output_type": "stream",
     "text": [
      "12500\n",
      "12500\n",
      "X_orig: (25000,)\n",
      "Y_orig: (25000,)\n",
      "12500\n",
      "12500\n",
      "X_orig: (25000,)\n",
      "Y_orig: (25000,)\n",
      "X_train: (36000,)\n",
      "y_train: (36000,)\n",
      "X_test: (10000,)\n",
      "y_test: (10000,)\n",
      "x_val: (4000,)\n",
      "y_val: (4000,)\n"
     ]
    }
   ],
   "source": [
    "datapath = r'../datasets/aclImdb'\n",
    "save_dir = r'../datasets/aclImdb'\n",
    "\n",
    "def get_data(datapath):\n",
    "    pos_files = os.listdir(datapath + '/pos')\n",
    "    neg_files = os.listdir(datapath + '/neg')\n",
    "    print(len(pos_files))\n",
    "    print(len(neg_files))\n",
    "\n",
    "    pos_all = []\n",
    "    neg_all = []\n",
    "    for pf, nf in zip(pos_files, neg_files):\n",
    "        with open(datapath + '/pos' + '/' + pf, encoding='utf-8') as f:\n",
    "            s = f.read()\n",
    "            pos_all.append(s)\n",
    "        with open(datapath + '/neg' + '/' + nf, encoding='utf-8') as f:\n",
    "            s = f.read()\n",
    "            neg_all.append(s)\n",
    "\n",
    "    X_orig= np.array(pos_all + neg_all)\n",
    "    Y_orig = np.array([1 for _ in range(len(pos_all))] + [0 for _ in range(len(neg_all))])\n",
    "    print(\"X_orig:\", X_orig.shape)\n",
    "    print(\"Y_orig:\", Y_orig.shape)\n",
    "\n",
    "    return X_orig, Y_orig\n",
    "\n",
    "def generate_train_data():\n",
    "    X_orig, Y_orig = get_data(datapath+r'/train')\n",
    "    X_test, Y__test = get_data(datapath+r'/test')\n",
    "    X = np.concatenate([X_orig, X_test])\n",
    "    Y = np.concatenate([Y_orig, Y__test])\n",
    "    np.random.seed = 1\n",
    "    random_indexs = np.random.permutation(len(X))\n",
    "    X = X[random_indexs]\n",
    "    Y = Y[random_indexs]\n",
    "    X_train, X_test, y_train, y_test = train_test_split(X, Y, test_size=0.2)\n",
    "    X_train, X_val, y_train, y_val = train_test_split(X_train, y_train, test_size=0.1)\n",
    "    print(\"X_train:\", X_train.shape)\n",
    "    print(\"y_train:\", y_train.shape)\n",
    "    print(\"X_test:\", X_test.shape)\n",
    "    print(\"y_test:\", y_test.shape)\n",
    "    print(\"x_val:\", X_val.shape)\n",
    "    print(\"y_val:\", y_val.shape)\n",
    "    np.savez(save_dir + '/imdb_train', x=X_train, y=y_train)\n",
    "    np.savez(save_dir + '/imdb_test', x=X_test, y=y_test)\n",
    "    np.savez(save_dir + '/imdb_val', x=X_val, y=y_val)\n",
    "\n",
    "generate_train_data()"
   ]
  },
  {
   "cell_type": "markdown",
   "metadata": {},
   "source": [
    "### 数据的截断和填充 "
   ]
  },
  {
   "cell_type": "code",
   "execution_count": 16,
   "metadata": {},
   "outputs": [],
   "source": [
    "from torchtext.data import get_tokenizer\n",
    "from torchtext.vocab import build_vocab_from_iterator\n",
    "from torchtext import transforms as T\n",
    "from torch.utils.data import TensorDataset\n",
    "    \n",
    "def build_dataset(reviews, labels, vocab, max_len=512):\n",
    "    text_transform = T.Sequential(\n",
    "        T.VocabTransform(vocab=vocab),\n",
    "        T.Truncate(max_seq_len=max_len),\n",
    "        T.ToTensor(padding_value=vocab['<pad>']),\n",
    "        T.PadTransform(max_length=max_len, pad_value=vocab['<pad>']),\n",
    "    )\n",
    "    dataset = TensorDataset(text_transform(reviews), torch.tensor(labels))\n",
    "    return dataset\n",
    "\n",
    "def load_imdb():\n",
    "    trainset=np.load('../datasets/aclImdb/imdb_train.npz')\n",
    "    valset=np.load('../datasets/aclImdb/imdb_train.npz')\n",
    "    testset=np.load('../datasets/aclImdb/imdb_train.npz')\n",
    "    torkenizer=get_tokenizer('basic_english')\n",
    "    reviews_train, labels_train = [torkenizer(s) for s in trainset['x'].tolist()],trainset['y'].tolist()\n",
    "    reviews_val,labels_val = [torkenizer(s) for s in valset['x'].tolist()],valset['y']\n",
    "    reviews_test, labels_test = [torkenizer(s) for s in testset['x'].tolist()],testset['y']\n",
    "    \n",
    "    vocab = build_vocab_from_iterator(reviews_train, min_freq=3, specials=['<pad>', '<unk>', '<cls>', '<sep>'])\n",
    "    vocab.set_default_index(vocab['<unk>'])\n",
    "    train_data = build_dataset(reviews_train, labels_train, vocab)\n",
    "    val_data = build_dataset(reviews_val,labels_val,vocab)\n",
    "    test_data = build_dataset(reviews_test, labels_test, vocab)\n",
    "    return train_data, val_data,test_data, vocab\n",
    "\n",
    "train_data, val_data,test_data, vocab=load_imdb()\n"
   ]
  },
  {
   "cell_type": "markdown",
   "metadata": {},
   "source": [
    "### 训练"
   ]
  },
  {
   "cell_type": "code",
   "execution_count": null,
   "metadata": {},
   "outputs": [],
   "source": [
    "from torch.utils.data import DataLoader\n",
    "if torch.cuda.is_available() :\n",
    "    device=torch.device('cuda')\n",
    "else:\n",
    "    device=torch.device('cpu')\n",
    "train_dl=DataLoader(dataset=train_data,batch_size=200)\n",
    "val_dl=DataLoader(dataset=val_data,batch_size=200)\n",
    "model=RAE(device=device,\n",
    "          vocab_size=vocab.__len__(),\n",
    "          K=2).to(device)\n",
    "params=model.parameters()\n",
    "lossFunc2=torch.nn.CrossEntropyLoss()\n",
    "optimizer=torch.optim.Adam(params=params,lr=1e-4)\n",
    "val_loss=-1\n",
    "for epoch in range(1,200):\n",
    "    for step ,(x,y) in enumerate(train_dl):\n",
    "        x=x.to(device)\n",
    "        y=y.to(device)\n",
    "        pred,loss1=model(x)\n",
    "        loss2=lossFunc2(pred,y)\n",
    "        loss=loss1+loss2\n",
    "        loss=torch.abs(loss)\n",
    "        optimizer.zero_grad()\n",
    "        loss.backward()\n",
    "        optimizer.step()\n",
    "        print(str(100*step/len(train_dl)),'%','  train_loss:',loss.item(),end='\\r')\n",
    "    if epoch %50 == 0 :\n",
    "        with torch.no_grad():\n",
    "            for _,(vx,vy) in enumerate(val_data):\n",
    "                vx=vx.to(device)\n",
    "                vy=vy.to(device)\n",
    "                pred,vloss1=model(vx)\n",
    "                vloss2=lossFunc2(pred,y)\n",
    "                vloss=vloss1+vloss2\n",
    "                vloss=torch.abs(vloss)\n",
    "    print('EPOCH ',str(epoch),',  train_loss:',loss.item(),',  val_loss:',vloss.item())\n",
    "    \n",
    "    "
   ]
  },
  {
   "cell_type": "code",
   "execution_count": 20,
   "metadata": {},
   "outputs": [
    {
     "data": {
      "text/plain": [
       "[0, 2, 0, 4, 5]"
      ]
     },
     "execution_count": 20,
     "metadata": {},
     "output_type": "execute_result"
    }
   ],
   "source": [
    "a=torch.tensor([1,2,3,4,5])\n",
    "b=torch.tensor([0,2,0,4,5]).cuda()\n",
    "b.tolist()"
   ]
  }
 ],
 "metadata": {
  "kernelspec": {
   "display_name": "pytorch",
   "language": "python",
   "name": "python3"
  },
  "language_info": {
   "codemirror_mode": {
    "name": "ipython",
    "version": 3
   },
   "file_extension": ".py",
   "mimetype": "text/x-python",
   "name": "python",
   "nbconvert_exporter": "python",
   "pygments_lexer": "ipython3",
   "version": "3.8.17"
  }
 },
 "nbformat": 4,
 "nbformat_minor": 2
}
